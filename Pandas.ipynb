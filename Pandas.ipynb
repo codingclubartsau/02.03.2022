{
 "cells": [
  {
   "cell_type": "markdown",
   "id": "8ab3ae90",
   "metadata": {},
   "source": [
    "# Pandas og DataFrames\n",
    "For at arbejde med dataframes bruger vi modulet Pandas. Den skal først hentes ind i programmet, og det gør vi ved:"
   ]
  },
  {
   "cell_type": "code",
   "execution_count": 7,
   "id": "d3726ff7",
   "metadata": {},
   "outputs": [],
   "source": [
    "import os\n",
    "import numpy as np\n",
    "import pandas as pd\n",
    "from pandas import DataFrame"
   ]
  },
  {
   "cell_type": "markdown",
   "id": "cb0028ae",
   "metadata": {},
   "source": [
    "Nu kan vi lave dataframes ved enten at hente data ind - typisk csv- eller txt-filer, eller ved at skrive vores datasæt ind manuelt.\n",
    "\n",
    "Hvis vi vil hente filer (der skal ligge i samme mappe som denne notebook), skriver vi følgende, hvis vi skal hente en csv-fil\n",
    "* df = pd.read_csv(\"Navn på datafil.csv\")\n",
    "\n",
    "Hvis vi skal hente en txt-fil hedder det:\n",
    "* df = pd.read_csv(\"Navn på datafil.txt\")\n",
    "\n",
    "Hent dit datasæt i følgende kodeblok:"
   ]
  },
  {
   "cell_type": "code",
   "execution_count": null,
   "id": "af7b9997",
   "metadata": {},
   "outputs": [],
   "source": [
    "df = "
   ]
  },
  {
   "cell_type": "markdown",
   "id": "d3c904ef",
   "metadata": {},
   "source": [
    "Du kan ændre navn på kolonner og rækker i din dataframe ved at bruge argumenterne \"columns = ['navne på kolonner adskilt med komma']\" og \"rows =['navne på rækker adskilt med komma']\""
   ]
  },
  {
   "cell_type": "markdown",
   "id": "0bd21713",
   "metadata": {},
   "source": [
    "Vi kan skrive vores data ind manuelt ved hjælp af lister:"
   ]
  },
  {
   "cell_type": "code",
   "execution_count": 11,
   "id": "5084f57d",
   "metadata": {},
   "outputs": [],
   "source": [
    "d1 = [\"Udland\", \"Ja eller nej? Nu skal danskerne afgøre, om de vil træde helt ind i EU's forsvarspolitik\", \"Den 1. juni skal danskerne tage stilling til, om Danmark skal beholde forsvarsforbeholdet eller ej. Det er ikke mange år siden, at statsminister Mette Frederiksen (S) affejede enhver snak om at sende det danske forsvarsforbehold til folkeafstemning med argumentet om, at det fungerer fint for Danmark at stå uden for EU’s fælles forsvarspolitik, og at Nato-samarbejdet er og bliver 'Danmarks primære forsvarspolitiske alliance'. Det skal det, i mine øjne, blive ved med at være, sagde statsministeren eksempelvis i 2019. Daværende forsvarsminister Trine Bramsen (S) kunne heller ikke se ideen i at droppe forbeholdet, som snart har 30 år på bagen. Jeg kan ikke pege på et eksempel, hvor jeg tænker: 'Her har det virkelig helt afgørende betydning, at Danmark ikke kan bidrage'. Eller: 'Her kan den her opgave kun løses i regi af EU', sagde hun og tilføjede, at 'EU er så utrolig langsommelige, når det handler om at nå til enighed om indsatser' på forsvarsområdet. Men alt det ændrede sig i går, hvor den socialdemokratiske regering sammen med Venstre, SF, De Konservative og De Radikale blev enige om at sende forsvarsforbeholdet til folkeafstemning 1. juni i år. Årsagen er Ruslands invasion af Ukraine og den nye sikkerhedspolitiske situation i Europa og resten af verden. Og alle fem partier anbefaler nu højst opsigtsvækkende, at det danske forsvarsforbehold bliver droppet. I vores optik hører Danmark hjemme i hjertet af Vestens sikkerhedspolitiske samarbejder, lød det i aftes fra statsministeren. Det betyder, at Danmark ikke er med i de dele af EU-samarbejdet, som har noget med forsvaret at gøre. Vi deltager ikke i EU’s militære operationer, som der lige nu er syv af, og vi er heller ikke med til at betale for dem.Det vil altså sige, at når de andre EU-lande eksempelvis beslutter sig for at sende krigsskibe til Somalias kyst for at jagte pirater eller til Middelhavet for at bekæmpe menneskesmuglere, så er det ikke noget, der har nogen som helst betydning for danskerne. Danmark må dog gerne deltage i såkaldte civile operationer under EU-flag. Danmark er eksempelvis med til at træne politibetjente i Irak og opbygge retsvæsnet i Kosovo. Og de danske politikere blander sig også i de bredere, mere generelle diskussioner om den europæiske forsvarspolitik. Men de har intet at skulle have sagt, når de andre EU-lande tager konkrete forsvarspolitiske beslutninger og eksempelvis søsætter nye forsvarsprojekter. Der må ministrene pænt slukke mikrofonen og holde fingeren fra stemmeknappen. Det stammer fra efteråret 1992, hvor de daværende oppositionsepartier Socialdemokratiet, De Radikale og SF satte sig sammen og blev enige om en række krav, der skulle på plads, før den såkaldte Maastricht-traktat kunne blive godkendt. Traktaten skulle udvide det europæiske samarbejde på en lang række områder – heriblandt i forhold til udenrigs- og sikkerhedspolitikken – og et flertal af danskerne havde kort forinden stemt nej til den. Et af kravene fra de tre partier var, at Danmark ikke skulle deltage i udviklingen af et europæisk forsvarssamarbejde. Det var især afgørende for SF, som frygtede, at der ville blive udviklet en 'europahær', som danske soldater skulle blive en del af. Både den borgerlige KV-regering og de andre medlemslande accepterede efterfølgende forsvarsforbeholdet og de andre krav, og siden da har Danmark stået udenfor.\"]\n",
    "d2 = [\"Penge\", \"Verden i krise: Følg prisen på benzin, el og mad lige nu\", \"Danmark ser ind i en langvarig international krise, som vil kunne mærkes på privatøkonomien hos de fleste. Verdensmarkederne har allerede set prishop på alt fra brændstof til brød, men krigen i Ukraine og de økonomiske sanktioner vil kun gøre ondt værre. Det var budskabet fra statsminister Mette Frederiksen (S) umiddelbart efter Ruslands invasion. Invasionen af Ukraine kommer med en pris, og den pris kommer til at blive betalt af os alle sammen.Her kan du dagligt følge udvalgte priser og få overblik over de økonomiske konsekvenser. Når prisen på råolie skyder i vejret, så koster det bilisterne ekstra ved benzinpumpen. Priserne for benzin har længe ligget på et højt niveau på grund af stigende efterspørgsel efter coronapandemien. Og de internationale lagre har været lave på olie og andre brændstoffer. Når der er uro på verdensmarkederne, hvor prisen på råolie stiger, så er det sammen med dollarkursen med til at gøre det dyrere at tanke benzin. Prisen på mad og andre fødevarer har også været igennem en stor stigning. Inflationen i Europa, hvor stigende priser gør dine penge mindre værd, er på vej op, og det kan blive værre i kølvandet på krigen i Ukraine.Udviklingen i priserne for den almindelige forbruger er blandt andet drevet af stigende energipriser, der gør det dyrere at producere produkter og fødevarer.Og det forringer vores købekraft som forbrugere, når især priserne på almindelige varer til dagligdagen stiger. Allerede sidste år begyndte priserne på el at stige markant. Der er tale om historisk høje priser. Og det er især en vind- og vandfattig sommer, der har fået råprisen på el til at stige.Elprisen består foruden den rå pris til el af en række afgifter og udgifter til vedligehold og distribution.Den rene elpris er styret af udbud og efterspørgsel, og elafgiften og udgifter til at vedligeholde energinettet ligger fast. Priserne på gas har i løbet af vinteren været skyhøje. Med Ruslands invasion i Ukraine ser det ud til, at priserne vil være sådan længe endnu. Det vil først og fremmest kunne mærkes hos de gaskunder, som ikke har bundet sig til en aftale om fast pris. Meget af Europas gas kommer fra Rusland, og priserne kan derfor på sigt blive endnu højere. Renterne på lån til boliger var under coronakrisen rekordlave, men de er på få måneder steget markant igen. Boligrenterne er med til at bestemme, hvor meget det koster at låne penge til en ny bolig.Men renterne er også vigtige for de boligejere, der gerne vil sælge. Renten kan nemlig have betydning for, hvor meget en sælger kan sætte sin bolig til, og hvor nemt det er at få boligen solgt. C25-indekset er sammensat af de 25 største danske aktier, heriblandt Vestas, Novo Nordisk og Mærsk.Indekset måler kursen på de mest omsatte aktier og er derfor toneangivende, når det gælder det danske aktiemarked. Prisen på aktier kan dog svinge meget op og ned på enkelte dage. Men markedet er på længere sigt og over tid vigtigt at holde øje med.\"]\n",
    "d3 = [\"Politik\", \"Pernille Skipper tordner mod partifæller: Sjældent hørt udtalelser så langt fra virkeligheden\", \"Ruslands krig har gjort det sværere at se et alternativ til Nato, mener tidligere politisk ordfører fra Enhedslisten. Krigen i Ukraine har fået interne uenigheder i Enhedslisten til at blusse op til overfladen.Nu stempler partiets tidligere frontfigur, Pernille Skipper, ind i debatten. Det sker med en opsang til de partifæller, der ikke har været klare i deres opbakning til Ukraine. Det er fuldstændig i strid med Enhedslistens politik, siger hun i et interview med P1Morgen. Det er to politikere fra den gamle generation i partiet, der har udløst balladen. Først rettede Christian Juhl, der er medlem af Udenrigsudvalget i Folketinget, i et interview med Jyllands-Posten en kritik af Ukraine for den måde, som russiske mindretal i Ukraine var blevet behandlet på. Ukraine har ført en ikkehensigtsmæssigt mindretalspolitik i den østlige del. Der har russerne fisket i rørt vande, sagde han.Siden kom Mikael Hertoft på banen. Han er medlem af Enhedslistens magtfulde hovedbestyrelse og talsperson for partiets Internationale Udvalg. Der skal to til at føre krig, udtalte han til Jyllands-Posten og sagde, at den ukrainske side også havde et ansvar for konflikten. Han sagde også, at han ikke vidste, om Ukraine var en nationalstat.- Jeg har ikke den opfattelse, at nationalgrænser er evige og uforanderlige, sagde han. 'Det her er en forfærdelig invasion'Og det er udtalelser, der har fået ledelsen i Enhedslisten til at fare i flint. Og efter nogle dage, hvor partitoppen mest har brugt sociale medier til at banke Juhl og Hertoft på plads, deltog Pernille Skipper i dag i interview i både P1 Morgen og P1's politiske magasin Slotsholmen. Mikael Hertoft er citeret for at sige, at der skal to til at føre krig, og at han ikke rigtig ved, om Ukraine er en nationalstat. Kan han så godt sidde i hovedbestyrelsen i Enhedslisten? Det er ikke op til mig at bestemme. Det er op til vores medlemmer.Hvad synes du? Jeg har sjældent hørt udtalelser, som er så langt fra skiven og langt fra virkeligheden som dem. Det er ikke bare forkert, det er noget, der minder om victim blaming. Jeg kan sige fuldstændig utvetydigt, at det her er en forfærdelig invasion. Det er alene Putins ansvar, og vi står 100 procent bag det ukrainske folks ret til at forsvare sig i den her situation. Hvor udbredt er holdningen i Enhedslisten om, at ukrainerne på et eller andet niveau selv har et ansvar for det, der er sket?- Jeg håber, den er meget, meget lille. Jeg har ikke mødt andre end de to, I lige har citeret. Tværtimod har der været store frustrationer i vores parti over de udtalelser, siger hun. Rykker tættere på NatoPernille Skipper blev i de to interviews også spurgt ind til partiets syn på medlemsskab af Nato. I partiets principprogram står der:'Vi bekæmper militarismen og arbejder for dansk udmeldelse af Nato'. Det er ifølge Pernille Skipper stadig partiets politik, men det er ikke noget, der skal ske lige med det samme. Det er ikke nogen tvivl om, at det ikke vil give nogen mening at melde sig ud af Nato i morgen med den situation, vi er i lige nu og uden at have et alternativ. Så lige nu er det godt, at Danmark er medlem af Nato?- Det får du mig nok ikke til at tage i min mund, for jeg vil insistere på at være meget kritisk over for både Natos historie og det fokus som krigsoptrappende organisation, Nato har. Når du ser på det, som Rusland har gang i lige nu, er det så godt, at Nato findes? Det er svært at sige. Det er det jo. Man kan godt analysere sig frem til at alle mulige årsager til, hvorfor vi er endt, hvor vi er. Der er ikke nogen tvivl om, at det ikke vil give sig mening at melde sig ud at Nato nu. Der skal være et alternativ, siger Skipper. Alternativet til Nato rykker længere vækHun erkender, at alternativet til Nato bliver sværere at se. Det er i hvert fald klart, det er blevet mere urealistisk, efter Putins soldater rykkede ind i Ukraine. Det at skabe et alternativ er rykket længere væk, det er man nødt til at indse. En af grundene til, at det ikke har været et fatamorgana, er, at Sverige og Finland har stået uden for Nato, men der begynder diskussionerne også at komme. Så det er kommet længere væk at skabe et alternativ, men jeg vil ikke hoppe på, at den kritik, vi har af Nato, skal fordufte som et dug for solen. Så sort-hvid er verden ikke. Står Enhedslisten ikke over for et valg? Enten er Danmark med i den nuværende Nato, eller er man ikke med i noget? Den situation, vi står i, har skabt nogle diskussioner verden over, også på venstrefløjen i Danmark og hele Europa. Det bliver taget diskussioner, der ikke har været taget før. Det er kun klogt, at når der sker verdensforandrende begivenheder, så begynder man også at tænke over tingene. Det, jeg ikke ikke kan leve med, er, at vi skal have en diskussion, hvor enten er alt, hvad Nato har gjort indtil nu fantatisk, eller også skal man ville ud i morgen. Der findes en mellemvej, siger Pernille Skipper til Slotsholmen.\"]"
   ]
  },
  {
   "cell_type": "code",
   "execution_count": 12,
   "id": "e8d5de66",
   "metadata": {},
   "outputs": [
    {
     "data": {
      "text/html": [
       "<div>\n",
       "<style scoped>\n",
       "    .dataframe tbody tr th:only-of-type {\n",
       "        vertical-align: middle;\n",
       "    }\n",
       "\n",
       "    .dataframe tbody tr th {\n",
       "        vertical-align: top;\n",
       "    }\n",
       "\n",
       "    .dataframe thead th {\n",
       "        text-align: right;\n",
       "    }\n",
       "</style>\n",
       "<table border=\"1\" class=\"dataframe\">\n",
       "  <thead>\n",
       "    <tr style=\"text-align: right;\">\n",
       "      <th></th>\n",
       "      <th>Emne</th>\n",
       "      <th>Titel</th>\n",
       "      <th>Tekst</th>\n",
       "    </tr>\n",
       "  </thead>\n",
       "  <tbody>\n",
       "    <tr>\n",
       "      <th>0</th>\n",
       "      <td>Udland</td>\n",
       "      <td>Ja eller nej? Nu skal danskerne afgøre, om de ...</td>\n",
       "      <td>Den 1. juni skal danskerne tage stilling til, ...</td>\n",
       "    </tr>\n",
       "    <tr>\n",
       "      <th>1</th>\n",
       "      <td>Penge</td>\n",
       "      <td>Verden i krise: Følg prisen på benzin, el og m...</td>\n",
       "      <td>Danmark ser ind i en langvarig international k...</td>\n",
       "    </tr>\n",
       "    <tr>\n",
       "      <th>2</th>\n",
       "      <td>Politik</td>\n",
       "      <td>Pernille Skipper tordner mod partifæller: Sjæl...</td>\n",
       "      <td>Ruslands krig har gjort det sværere at se et a...</td>\n",
       "    </tr>\n",
       "  </tbody>\n",
       "</table>\n",
       "</div>"
      ],
      "text/plain": [
       "      Emne                                              Titel  \\\n",
       "0   Udland  Ja eller nej? Nu skal danskerne afgøre, om de ...   \n",
       "1    Penge  Verden i krise: Følg prisen på benzin, el og m...   \n",
       "2  Politik  Pernille Skipper tordner mod partifæller: Sjæl...   \n",
       "\n",
       "                                               Tekst  \n",
       "0  Den 1. juni skal danskerne tage stilling til, ...  \n",
       "1  Danmark ser ind i en langvarig international k...  \n",
       "2  Ruslands krig har gjort det sværere at se et a...  "
      ]
     },
     "execution_count": 12,
     "metadata": {},
     "output_type": "execute_result"
    }
   ],
   "source": [
    "data = [d1,d2,d3]\n",
    "df = pd.DataFrame(data, columns = [\"Emne\", \"Titel\", \"Tekst\"])\n",
    "df"
   ]
  },
  {
   "cell_type": "markdown",
   "id": "f7afaf8e",
   "metadata": {},
   "source": [
    "Nyttige kommandoer til at vise og ændre dataframes med panda kan findes på denne side: https://www.dataquest.io/blog/pandas-cheat-sheet/"
   ]
  },
  {
   "cell_type": "markdown",
   "id": "1a2910cf",
   "metadata": {},
   "source": [
    "Der er mange grunde til at opstille sine tekstdata i tabeller (dataframes). Èn smart ting ved det er, at vi kan bruge funktioner (et stykke gemt kode/funktion) på mange kolonner/rækker. Dette kan vi gøre med .apply()\n",
    "Først skal vi have defineret en funktion, vi gerne vil benytte:"
   ]
  },
  {
   "cell_type": "code",
   "execution_count": 14,
   "id": "544a5164",
   "metadata": {},
   "outputs": [],
   "source": [
    "def rens_ord(text):\n",
    "    text_1 = text.replace(\".\", \" \")\n",
    "    text_2 = text_1.replace(\",\",\" \") #tilføj selv flere\n",
    "    text_token = text_2.split()\n",
    "    return text_token"
   ]
  },
  {
   "cell_type": "code",
   "execution_count": 17,
   "id": "bf105708",
   "metadata": {},
   "outputs": [
    {
     "data": {
      "text/plain": [
       "['Hej!', 'Hej', 'med', 'dig', 'jeg', 'laver', 'kabale', 'Hvad', 'laver', 'du?']"
      ]
     },
     "execution_count": 17,
     "metadata": {},
     "output_type": "execute_result"
    }
   ],
   "source": [
    "rens_ord(\"Hej! Hej med dig, jeg laver kabale. Hvad laver du?\")"
   ]
  },
  {
   "cell_type": "markdown",
   "id": "7ea8b341",
   "metadata": {},
   "source": [
    "Nu vil vi gerne rense teksten i alle vores tekster i kolonnen \"Tekst\". Det gør vi ved:"
   ]
  },
  {
   "cell_type": "code",
   "execution_count": 18,
   "id": "bfaf34cb",
   "metadata": {},
   "outputs": [],
   "source": [
    "df[\"ren_tekst_ord\"]= df.Tekst.apply(rens_ord)"
   ]
  },
  {
   "cell_type": "code",
   "execution_count": 19,
   "id": "76d131f7",
   "metadata": {},
   "outputs": [
    {
     "data": {
      "text/html": [
       "<div>\n",
       "<style scoped>\n",
       "    .dataframe tbody tr th:only-of-type {\n",
       "        vertical-align: middle;\n",
       "    }\n",
       "\n",
       "    .dataframe tbody tr th {\n",
       "        vertical-align: top;\n",
       "    }\n",
       "\n",
       "    .dataframe thead th {\n",
       "        text-align: right;\n",
       "    }\n",
       "</style>\n",
       "<table border=\"1\" class=\"dataframe\">\n",
       "  <thead>\n",
       "    <tr style=\"text-align: right;\">\n",
       "      <th></th>\n",
       "      <th>Emne</th>\n",
       "      <th>Titel</th>\n",
       "      <th>Tekst</th>\n",
       "      <th>ren_tekst_ord</th>\n",
       "    </tr>\n",
       "  </thead>\n",
       "  <tbody>\n",
       "    <tr>\n",
       "      <th>0</th>\n",
       "      <td>Udland</td>\n",
       "      <td>Ja eller nej? Nu skal danskerne afgøre, om de ...</td>\n",
       "      <td>Den 1. juni skal danskerne tage stilling til, ...</td>\n",
       "      <td>[Den, 1, juni, skal, danskerne, tage, stilling...</td>\n",
       "    </tr>\n",
       "    <tr>\n",
       "      <th>1</th>\n",
       "      <td>Penge</td>\n",
       "      <td>Verden i krise: Følg prisen på benzin, el og m...</td>\n",
       "      <td>Danmark ser ind i en langvarig international k...</td>\n",
       "      <td>[Danmark, ser, ind, i, en, langvarig, internat...</td>\n",
       "    </tr>\n",
       "    <tr>\n",
       "      <th>2</th>\n",
       "      <td>Politik</td>\n",
       "      <td>Pernille Skipper tordner mod partifæller: Sjæl...</td>\n",
       "      <td>Ruslands krig har gjort det sværere at se et a...</td>\n",
       "      <td>[Ruslands, krig, har, gjort, det, sværere, at,...</td>\n",
       "    </tr>\n",
       "  </tbody>\n",
       "</table>\n",
       "</div>"
      ],
      "text/plain": [
       "      Emne                                              Titel  \\\n",
       "0   Udland  Ja eller nej? Nu skal danskerne afgøre, om de ...   \n",
       "1    Penge  Verden i krise: Følg prisen på benzin, el og m...   \n",
       "2  Politik  Pernille Skipper tordner mod partifæller: Sjæl...   \n",
       "\n",
       "                                               Tekst  \\\n",
       "0  Den 1. juni skal danskerne tage stilling til, ...   \n",
       "1  Danmark ser ind i en langvarig international k...   \n",
       "2  Ruslands krig har gjort det sværere at se et a...   \n",
       "\n",
       "                                       ren_tekst_ord  \n",
       "0  [Den, 1, juni, skal, danskerne, tage, stilling...  \n",
       "1  [Danmark, ser, ind, i, en, langvarig, internat...  \n",
       "2  [Ruslands, krig, har, gjort, det, sværere, at,...  "
      ]
     },
     "execution_count": 19,
     "metadata": {},
     "output_type": "execute_result"
    }
   ],
   "source": [
    "df"
   ]
  },
  {
   "cell_type": "markdown",
   "id": "a1581a80",
   "metadata": {},
   "source": [
    "Prøv evt. at\n",
    "* lave dit eget datasæt\n",
    "* definer en rens-funktion, der renser teksten helt\n",
    "* lav en rens-funktion, der renser for sætninger\n",
    "* tilføje teksten delt op i ord og/eller delt op i sætninger i dataframen (tabellen)\n",
    "* regne hvor lange sætningerne er eller hvor mange ord der er i hver sætning\n",
    "* regne gennemsnitlig sætningslænge eller gennemsnitlig ordlængde for hver tekst"
   ]
  },
  {
   "cell_type": "markdown",
   "id": "968d5e2d",
   "metadata": {},
   "source": [
    "Når du er færdig, kan du gemme dit datasæt som en csv-fil på computeren. Det gør du ved at brug \".to_csv\"-funktionen"
   ]
  },
  {
   "cell_type": "code",
   "execution_count": null,
   "id": "7a09f8ad",
   "metadata": {},
   "outputs": [],
   "source": [
    "df.to_csv(\"navn_på_filen_du_gemmer.csv\", index=False)"
   ]
  },
  {
   "cell_type": "markdown",
   "id": "c3ee46e1",
   "metadata": {},
   "source": [
    "Filen bliver så gemt i den mappe, hvor dit kodescript er gemt."
   ]
  },
  {
   "cell_type": "code",
   "execution_count": null,
   "id": "62de43c1",
   "metadata": {},
   "outputs": [],
   "source": []
  }
 ],
 "metadata": {
  "kernelspec": {
   "display_name": "Python 3 (ipykernel)",
   "language": "python",
   "name": "python3"
  },
  "language_info": {
   "codemirror_mode": {
    "name": "ipython",
    "version": 3
   },
   "file_extension": ".py",
   "mimetype": "text/x-python",
   "name": "python",
   "nbconvert_exporter": "python",
   "pygments_lexer": "ipython3",
   "version": "3.9.10"
  }
 },
 "nbformat": 4,
 "nbformat_minor": 5
}
